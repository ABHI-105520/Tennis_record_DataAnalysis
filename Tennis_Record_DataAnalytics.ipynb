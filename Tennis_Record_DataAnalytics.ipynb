{
 "cells": [
  {
   "cell_type": "markdown",
   "id": "9577ae28",
   "metadata": {},
   "source": [
    "## Importing the libraries."
   ]
  },
  {
   "cell_type": "code",
   "execution_count": null,
   "id": "36883108",
   "metadata": {},
   "outputs": [],
   "source": [
    "import os\n",
    "import pandas as pd\n",
    "import matplotlib.pyplot as plt\n",
    "import seaborn as sns"
   ]
  },
  {
   "cell_type": "markdown",
   "id": "a9ce8701",
   "metadata": {},
   "source": [
    "## Reading Datasets."
   ]
  },
  {
   "cell_type": "code",
   "execution_count": null,
   "id": "4d78ab91",
   "metadata": {},
   "outputs": [],
   "source": [
    "path = 'C:/Users/Datasets'  # Replace with the actual folder path where the datasets are stored\n",
    "dt_col_n = 'Date'\n",
    "dfs = []\n",
    "for fname in os.listdir(path):\n",
    "    if fname.endswith(\".xlsx\"):\n",
    "        f_path = os.path.join(path, fname)\n",
    "        df = pd.read_excel(f_path)\n",
    "        \n",
    "        if dt_col_n in df.columns:\n",
    "            dt_col = pd.to_datetime(df[dt_col_n])\n",
    "            flt_data = df[(dt_col >= '2013-01-01') & (dt_col <= '2022-12-31')]\n",
    "            dfs.append(flt_data)\n",
    "        else:\n",
    "            print(f\"Date column '{dt_col_n}' not found in file: {fname}\")\n",
    "\n",
    "merge_df = pd.concat(dfs, ignore_index=True)"
   ]
  },
  {
   "cell_type": "markdown",
   "id": "981e03b8",
   "metadata": {},
   "source": [
    "## Task 1: Wrangling, reshaping, EDA."
   ]
  },
  {
   "cell_type": "markdown",
   "id": "05ac2436",
   "metadata": {},
   "source": [
    "**Data Preprocessing**"
   ]
  },
  {
   "cell_type": "code",
   "execution_count": null,
   "id": "8fac61c8",
   "metadata": {},
   "outputs": [],
   "source": [
    "merge_df['Date'] = pd.to_datetime(merge_df['Date'])\n",
    "df = merge_df.sort_values('Date')"
   ]
  },
  {
   "cell_type": "code",
   "execution_count": null,
   "id": "383600d6",
   "metadata": {},
   "outputs": [],
   "source": [
    "df.info()"
   ]
  },
  {
   "cell_type": "markdown",
   "id": "20135194",
   "metadata": {},
   "source": [
    "Missing values of 'Best of' can be filled by checking the number of set played in that match. So here, set 3 and 4 if they are null, means the number of set played is either 2 or 3. Which means the match was based on best of 3. Again, if set 4 and 5 are not null, means number of set played is either 4 or 5. Which means the match was based on best of 5."
   ]
  },
  {
   "cell_type": "code",
   "execution_count": null,
   "id": "f36b8708",
   "metadata": {},
   "outputs": [],
   "source": [
    "df.loc[df[['W3', 'W4']].isna().all(axis=1), 'Best of'] = 3\n",
    "df.loc[df[['W4']].isna().all(axis=1), 'Best of'] = 3\n",
    "\n",
    "df.loc[df[['W4', 'W5']].notnull().all(axis=1), 'Best of'] = 5\n",
    "df.loc[df[['W5']].notnull().all(axis=1), 'Best of'] = 5"
   ]
  },
  {
   "cell_type": "code",
   "execution_count": null,
   "id": "5669c2ec",
   "metadata": {},
   "outputs": [],
   "source": [
    "def fill_mean(rfr, col):\n",
    "    means = df.groupby(rfr)[col].transform('mean')\n",
    "    df[col].fillna(means, inplace=True)"
   ]
  },
  {
   "cell_type": "code",
   "execution_count": null,
   "id": "19a5631f",
   "metadata": {},
   "outputs": [],
   "source": [
    "fill_mean('Winner','WRank')\n",
    "fill_mean('Loser','LRank')\n",
    "fill_mean('Winner','WPts')\n",
    "fill_mean('Loser','LPts')"
   ]
  },
  {
   "cell_type": "code",
   "execution_count": null,
   "id": "46d67842",
   "metadata": {},
   "outputs": [],
   "source": [
    "df = df.dropna(subset=['WRank', 'LRank'], axis=0)"
   ]
  },
  {
   "cell_type": "markdown",
   "id": "10f213ec",
   "metadata": {},
   "source": [
    "**Data Cleaning**"
   ]
  },
  {
   "cell_type": "code",
   "execution_count": null,
   "id": "d47aebe6",
   "metadata": {},
   "outputs": [],
   "source": [
    "print('Duplicate:',df.duplicated().sum())\n",
    "df = df.drop_duplicates()"
   ]
  },
  {
   "cell_type": "code",
   "execution_count": null,
   "id": "448b74dd",
   "metadata": {},
   "outputs": [],
   "source": [
    "df.describe()"
   ]
  },
  {
   "cell_type": "markdown",
   "id": "4442613c",
   "metadata": {},
   "source": [
    "Plotting Outliers."
   ]
  },
  {
   "cell_type": "code",
   "execution_count": null,
   "id": "d17bab92",
   "metadata": {},
   "outputs": [],
   "source": [
    "plt.subplot(2,2,1)\n",
    "plt.subplots_adjust(left=.125,bottom=-1,right=.9,top=1,wspace=.2,hspace=.2)\n",
    "plt.boxplot(df['WRank'])\n",
    "plt.xlabel('WRank')\n",
    "\n",
    "plt.subplot(2,2,2)\n",
    "plt.subplots_adjust(left=.005,bottom=-1,right=.9,top=1,wspace=.2,hspace=.2)\n",
    "plt.boxplot(df['WPts'])\n",
    "plt.xlabel('WPts')\n",
    "\n",
    "plt.subplot(2,2,3)\n",
    "plt.subplots_adjust(left=.125,bottom=-1,right=.9,top=1,wspace=.2,hspace=.2)\n",
    "plt.boxplot(df['LRank'])\n",
    "plt.xlabel('LRank')\n",
    "\n",
    "plt.subplot(2,2,4)\n",
    "plt.subplots_adjust(left=.005,bottom=-1,right=.9,top=1,wspace=.2,hspace=.2)\n",
    "plt.boxplot(df['LPts'])\n",
    "plt.xlabel('LPts')\n",
    "\n",
    "plt.show()"
   ]
  },
  {
   "cell_type": "markdown",
   "id": "65c7180b",
   "metadata": {},
   "source": [
    "Defining function to identify and remove outliers. IQR method is used here to detect outliers. Calculate the difference between the 75th percentile (q3) and the 25th percentile (q1) of the data. **iqr = q3 - q1** Then multiply the IQR by a 1.5 to determine the lower and upper boundaries. **l_b = q1 - 1.5xiqr** and **u_b = q3 + 1.5xiqr** Extracting the indexes of outliers by checking the data and finding data less that lower boundary and higher than upper boundary. Finally removing the outliers by detecting the indexes."
   ]
  },
  {
   "cell_type": "code",
   "execution_count": null,
   "id": "e1066a9d",
   "metadata": {},
   "outputs": [],
   "source": [
    "def outliers(dfr, col):\n",
    "    q1 = dfr[col].quantile(.25)\n",
    "    q3 = dfr[col].quantile(.75)\n",
    "    iqr = q3 - q1\n",
    "    \n",
    "    l_b = q1 - 1.5*iqr\n",
    "    u_b = q3 + 1.5*iqr\n",
    "    \n",
    "    ls = dfr.index[(dfr[col]<l_b) | (dfr[col]>u_b)]\n",
    "    \n",
    "    return ls\n",
    "\n",
    "def remove(dfr, lst):\n",
    "    ls = sorted(set(lst))\n",
    "    dfs = dfr.drop(ls)\n",
    "    return dfs"
   ]
  },
  {
   "cell_type": "markdown",
   "id": "0fecb173",
   "metadata": {},
   "source": [
    "Checking the columns having outliers and storing by extracting the index calling 'outliers' function."
   ]
  },
  {
   "cell_type": "code",
   "execution_count": null,
   "id": "5d997f9d",
   "metadata": {},
   "outputs": [],
   "source": [
    "i_ls = []\n",
    "for f in ['WRank','LRank','WPts','LPts']:   \n",
    "    i_ls.extend(outliers(df, f))"
   ]
  },
  {
   "cell_type": "markdown",
   "id": "3c4dfaa9",
   "metadata": {},
   "source": [
    "Removing the outliers and creating new dataframe with clean data."
   ]
  },
  {
   "cell_type": "code",
   "execution_count": null,
   "id": "85ba5763",
   "metadata": {},
   "outputs": [],
   "source": [
    "dfc = remove(df, i_ls)"
   ]
  },
  {
   "cell_type": "code",
   "execution_count": null,
   "id": "4120a192",
   "metadata": {},
   "outputs": [],
   "source": [
    "dfc.describe()"
   ]
  },
  {
   "cell_type": "code",
   "execution_count": null,
   "id": "83e314eb",
   "metadata": {},
   "outputs": [],
   "source": [
    "dfc['OverallSequence'] = dfc.groupby(dfc['Date'].dt.year)['ATP'].rank(method='min')"
   ]
  },
  {
   "cell_type": "markdown",
   "id": "9aa5015f",
   "metadata": {},
   "source": [
    "**Data Visualization**"
   ]
  },
  {
   "cell_type": "code",
   "execution_count": null,
   "id": "a97d57bf",
   "metadata": {
    "scrolled": false
   },
   "outputs": [],
   "source": [
    "plt.hist(dfc['ATP'])\n",
    "plt.xlabel('ATP')\n",
    "plt.ylabel('Frequency')\n",
    "plt.title('Distribution of ATP')\n",
    "plt.show()"
   ]
  },
  {
   "cell_type": "code",
   "execution_count": null,
   "id": "43116f9f",
   "metadata": {
    "scrolled": false
   },
   "outputs": [],
   "source": [
    "s_s_counts = df.groupby(['Series', 'Surface']).size().unstack()\n",
    "s_s_counts.plot(kind='bar')\n",
    "plt.xlabel('Series')\n",
    "plt.ylabel('Count')\n",
    "plt.title('Count of Tournaments by Series and Surface')\n",
    "plt.xticks(rotation=45)\n",
    "plt.legend(title='Surface')\n",
    "plt.show()"
   ]
  },
  {
   "cell_type": "code",
   "execution_count": null,
   "id": "4084c455",
   "metadata": {},
   "outputs": [],
   "source": [
    "plt.pie(dfc['Surface'].value_counts(), labels=dfc['Surface'].unique(), autopct='%1.1f%%')\n",
    "plt.title('Distribution of Surface types')\n",
    "plt.show()"
   ]
  },
  {
   "cell_type": "code",
   "execution_count": null,
   "id": "58e116ee",
   "metadata": {},
   "outputs": [],
   "source": [
    "series_counts = df['Series'].value_counts()\n",
    "plt.pie(series_counts, labels=series_counts.index, autopct='%1.1f%%', wedgeprops=dict(width=0.3))\n",
    "plt.title('Proportion of Tournaments by Series')\n",
    "plt.show()"
   ]
  },
  {
   "cell_type": "code",
   "execution_count": null,
   "id": "7d757c88",
   "metadata": {},
   "outputs": [],
   "source": [
    "f_data = dfc[dfc['Best of'] == 3]\n",
    "s_counts = f_data['Series'].value_counts()\n",
    "\n",
    "plt.bar(s_counts.index, s_counts.values)\n",
    "plt.xlabel('Series')\n",
    "plt.ylabel('Count')\n",
    "plt.title('Series Played (Best of 3)')\n",
    "plt.xticks(rotation=90)\n",
    "plt.show()"
   ]
  },
  {
   "cell_type": "code",
   "execution_count": null,
   "id": "059b411c",
   "metadata": {},
   "outputs": [],
   "source": [
    "avg_odds = merge_df.groupby('Surface')['B365W'].mean()\n",
    "plt.pie(avg_odds, labels=avg_odds.index, autopct='%1.1f%%')\n",
    "plt.title('Average Betting Odds by Surface')\n",
    "plt.show()"
   ]
  },
  {
   "cell_type": "code",
   "execution_count": null,
   "id": "37e73a14",
   "metadata": {},
   "outputs": [],
   "source": [
    "plt.pie(dfc['Court'].value_counts(), labels=dfc['Court'].unique(), autopct='%1.1f%%')\n",
    "plt.title('Distribution of Court Types')\n",
    "plt.show()"
   ]
  },
  {
   "cell_type": "code",
   "execution_count": null,
   "id": "0980bb28",
   "metadata": {},
   "outputs": [],
   "source": [
    "r_c_counts = dfc.groupby(['Round', 'Court']).size().reset_index(name='count')\n",
    "sns.barplot(x='Round', y='count', hue='Court', data=r_c_counts)\n",
    "plt.xlabel('Rounds')\n",
    "plt.ylabel('Count')\n",
    "plt.xticks(rotation=45)\n",
    "plt.title('Rounds Played in Different Courts')\n",
    "plt.show()"
   ]
  },
  {
   "cell_type": "code",
   "execution_count": null,
   "id": "64ad8c76",
   "metadata": {},
   "outputs": [],
   "source": [
    "sns.barplot(data=df, x='Round', y='WPts')\n",
    "plt.xlabel('Round')\n",
    "plt.ylabel('Points')\n",
    "plt.title('Distribution of Points by Round')\n",
    "plt.xticks(rotation=45)\n",
    "plt.show()"
   ]
  },
  {
   "cell_type": "code",
   "execution_count": null,
   "id": "c1f7be10",
   "metadata": {},
   "outputs": [],
   "source": [
    "plt.bar(dfc['Round'], dfc['WPts'], label='WPts', color='black')\n",
    "plt.bar(dfc['Round'], dfc['LPts'], bottom=dfc['WPts'], label='LPts',color='yellow')\n",
    "plt.xticks(rotation=45)\n",
    "plt.xlabel('Round')\n",
    "plt.ylabel('Points')\n",
    "plt.title('Points by Round')\n",
    "plt.legend()\n",
    "plt.show()"
   ]
  },
  {
   "cell_type": "markdown",
   "id": "36008e88",
   "metadata": {},
   "source": [
    " ## Task 2: Analysis questions and plotting"
   ]
  },
  {
   "cell_type": "markdown",
   "id": "f00eaed4",
   "metadata": {},
   "source": [
    "#### Who are the top 10 players by total wins in the dataset, and how many wins do they have? Plot this"
   ]
  },
  {
   "cell_type": "markdown",
   "id": "9adb0bd5",
   "metadata": {},
   "source": [
    "Firstly, the total wins of the winner is calculated by counting the number of times their name appears in winner list and the count is stored in 'Total' column. Then the top 10 players with the highest number of wins is extracted. The players name and their wins is visualized using bar chart."
   ]
  },
  {
   "cell_type": "code",
   "execution_count": null,
   "id": "4e971278",
   "metadata": {},
   "outputs": [],
   "source": [
    "win = dfc['Winner'].value_counts().reset_index(name='Total')\n",
    "win = win.rename(columns={'index': 'Winner'})\n",
    "\n",
    "top_10_w = win.head(10)\n",
    "plt.figure(figsize=(7, 5))\n",
    "plt.bar(top_10_w['Winner'], top_10_w['Total'], width=.5)\n",
    "for i, v in enumerate(top_10_w['Total']):\n",
    "    plt.text(i, v, str(v), ha='center', va='bottom')\n",
    "plt.xlabel('Player')\n",
    "plt.ylabel('Total Wins')\n",
    "plt.title('Top 10 Players by Total Wins')\n",
    "plt.xticks(rotation=45)\n",
    "plt.show()"
   ]
  },
  {
   "cell_type": "markdown",
   "id": "289faa28",
   "metadata": {},
   "source": [
    "#### Which players have won the most Grand Slam matches and titles in the last 10 years? Plot this"
   ]
  },
  {
   "cell_type": "markdown",
   "id": "efc2bf4b",
   "metadata": {},
   "source": [
    "Here, we'll extract all the winners who won the most 'Grand Slam' title. The titles won by the players are stored in the 'Series' column. So while extracting, we check the rows containing 'Grand Slam' and extract the players name. In the meantime, we also calculate the number of titles won by a particular player using value_count(). All the comparatable data according to condition is stored in the form of dataframe. The dataframe is then ploted using bar chart for visualization."
   ]
  },
  {
   "cell_type": "code",
   "execution_count": null,
   "id": "5db7cc7f",
   "metadata": {},
   "outputs": [],
   "source": [
    "grand_slam = dfc.loc[dfc['Series']=='Grand Slam',['Winner']].value_counts()\n",
    "grand_slam.head(10).plot(kind='bar')"
   ]
  },
  {
   "cell_type": "markdown",
   "id": "7d435793",
   "metadata": {},
   "source": [
    "#### Who are the top 10 players according to the largest number of First Round tournament losses across all 10 years? Plot this."
   ]
  },
  {
   "cell_type": "markdown",
   "id": "eab16b69",
   "metadata": {},
   "source": [
    "Firstly, the total loss of the loser is calculated by counting the number of times their name appears in loser list and the count is stored in 'Total' column. Then the top 10 players with the highest number of loss is extracted. The players name and their loses is visualized using bar chart."
   ]
  },
  {
   "cell_type": "code",
   "execution_count": null,
   "id": "0b97c9fe",
   "metadata": {},
   "outputs": [],
   "source": [
    "los = dfc['Loser'].value_counts().reset_index(name='Total')\n",
    "los = los.rename(columns={'index': 'Loser'})\n",
    "\n",
    "top_10_l=los.head(10)\n",
    "plt.figure(figsize=(7, 5))\n",
    "plt.bar(top_10_l['Loser'], top_10_l['Total'], width=.5)\n",
    "for i, v in enumerate(top_10_l['Total']):\n",
    "    plt.text(i, v, str(v), ha='center', va='bottom')\n",
    "plt.xlabel('Player')\n",
    "plt.ylabel('Total Losses')\n",
    "plt.title('Top 10 Players by Total Losses')\n",
    "plt.xticks(rotation=45)\n",
    "plt.show()"
   ]
  },
  {
   "cell_type": "markdown",
   "id": "ca6a1c5a",
   "metadata": {},
   "source": [
    "#### Identify the 5 biggest upsets for each year in the dataset based on ranking differentials. List player names, rankings, winner/loser, score, and tournament name and what the difference in the rankings was at the time."
   ]
  },
  {
   "cell_type": "markdown",
   "id": "13ec9ca1",
   "metadata": {},
   "source": [
    "To get the ranking difference, the rank of the winner and the loser is substracted and stored in 'DiffRank' column. The year from the date is extracted and stored in 'Year' column. The data are sorted with year in ascending and ranking difference in descending order. The data is again grouped with respect to year. Based on ranking difference, the top 5 upsets with the required informations are displayed."
   ]
  },
  {
   "cell_type": "code",
   "execution_count": null,
   "id": "c098ec3f",
   "metadata": {},
   "outputs": [],
   "source": [
    "up_df = dfc\n",
    "up_df['DiffRank'] = up_df['WRank'] - up_df['LRank']\n",
    "up_df['Year'] = up_df['Date'].dt.year\n",
    "sort_df = up_df.sort_values(['Year', 'DiffRank'], ascending=[True, False])\n",
    "up_5 = sort_df.groupby('Year')\n",
    "up_list = up_5[['Year', 'DiffRank', 'Winner', 'WRank', 'WPts', 'Loser', 'LRank', 'LPts', 'Tournament']]\n",
    "up_list.head().reset_index()"
   ]
  },
  {
   "cell_type": "markdown",
   "id": "787b36be",
   "metadata": {},
   "source": [
    "#### Who were the top 10 players at year-end in 2017? How have their rankings changed over the period of 2013 to 2022? Plot this."
   ]
  },
  {
   "cell_type": "markdown",
   "id": "395b5415",
   "metadata": {},
   "source": [
    "Firstly, all the data of the year 2017 is being extracted and stored in 'pl17_df'. Then the winner are grouped with respect to their winning ranks. Then the ranks are sorted in ascending order to get the highest rank on top. From there, the top 10 players are extracted. After which, we need to present their ranking throughout the period of 2013-2022. So we check their names in the winner list of all the data 2013-2022 and plot bar graph individually for all the players for better visualization of their performance"
   ]
  },
  {
   "cell_type": "code",
   "execution_count": null,
   "id": "862134e2",
   "metadata": {},
   "outputs": [],
   "source": [
    "pl17_df = dfc[dfc['Date'].dt.year == 2017]\n",
    "rank_df = pl17_df.groupby('Winner')['WRank'].agg('max').reset_index()\n",
    "rank_df_sorted = rank_df.sort_values('WRank', ascending=True)\n",
    "top_plr = rank_df_sorted.head(10)\n",
    "top_plr_2017 = dfc[dfc['Winner'].isin(top_plr['Winner'])]\n",
    "\n",
    "for player in top_plr_2017['Winner'].unique():\n",
    "    plr_data = top_plr_2017[top_plr_2017['Winner'] == player]\n",
    "    plt.figure(figsize=(7, 5))\n",
    "    plt.bar(plr_data['Year'], plr_data['WRank'], label=player, width=.5)\n",
    "    plt.xlabel('Year')\n",
    "    plt.ylabel('Ranking')\n",
    "    plt.title('Rankings of '+player+' (2013-2022)')\n",
    "    plt.legend()\n",
    "    plt.show()"
   ]
  },
  {
   "cell_type": "markdown",
   "id": "674bc2e8",
   "metadata": {},
   "source": [
    "## Task 3: Advanced analysis questions"
   ]
  },
  {
   "cell_type": "markdown",
   "id": "50b23cdd",
   "metadata": {},
   "source": [
    "#### Which tournaments have had on average the most upsets (where a lower-ranked player defeated a higherranked player)? List the top 10 and plot their averages."
   ]
  },
  {
   "cell_type": "markdown",
   "id": "1c0951f1",
   "metadata": {},
   "source": [
    "Firstly, we calculate the ranking difference where the loser defeated the winner. Then we group the tournament and calculate the mean of the upset ranking difference. Then we sort the values in descending order to get thw highest upsets on top. then we extract the top 10 tournament with highest upsets. Bar graph is used to visualize the data."
   ]
  },
  {
   "cell_type": "code",
   "execution_count": null,
   "id": "56cf4fa1",
   "metadata": {},
   "outputs": [],
   "source": [
    "ups_df = dfc\n",
    "ups_df['DiffRank'] = ups_df['LRank'] - ups_df['WRank']\n",
    "ups_avg = ups_df.groupby('Tournament')['DiffRank'].mean().reset_index()\n",
    "ups_avg_sorted = ups_avg.sort_values('DiffRank', ascending=False)\n",
    "top10_tournaments = ups_avg_sorted.head(10)\n",
    "\n",
    "plt.figure(figsize=(7, 5))\n",
    "plt.bar(top10_tournaments['Tournament'], top10_tournaments['DiffRank'], width=.5)\n",
    "plt.xlabel('Tournament')\n",
    "plt.ylabel('Average Upset Rate')\n",
    "plt.title('Tournaments with the Highest Average Upset Rates')\n",
    "plt.xticks(rotation=90)\n",
    "plt.show()"
   ]
  },
  {
   "cell_type": "markdown",
   "id": "020006ca",
   "metadata": {},
   "source": [
    "#### Determine who the top 10 ranked players were at the end of 2022. Then calculate their head-to-head win-loss record against each other for all the matches they played in 2022. Present this result."
   ]
  },
  {
   "cell_type": "markdown",
   "id": "17821032",
   "metadata": {},
   "source": [
    "Sorting the ranks of both the winner and loser in the year 2022 and store the top 10 unique players data. And the data of 2022 is also stored separately. Then the data of the top 10 winner and loser is checked with all the data of 2022. then their  head-to-head win-loss record against each other is presented."
   ]
  },
  {
   "cell_type": "code",
   "execution_count": null,
   "id": "9761f068",
   "metadata": {},
   "outputs": [],
   "source": [
    "top10_win = dfc[dfc['Date'].dt.year == 2022].sort_values('WRank').head(10)['Winner'].unique().tolist()\n",
    "top10_los = dfc[dfc['Date'].dt.year == 2022].sort_values('LRank').head(10)['Loser'].unique().tolist()\n",
    "data_2022 = dfc[dfc['Date'].dt.year == 2022]\n",
    "mtc_top10 = data_2022[data_2022['Winner'].isin(top10_win) & data_2022['Loser'].isin(top10_los)]\n",
    "vs = mtc_top10.groupby(['Winner', 'Loser']).size().unstack().fillna(0)\n",
    "print(vs)"
   ]
  },
  {
   "cell_type": "markdown",
   "id": "4b2d14fb",
   "metadata": {},
   "source": [
    "#### List the top 5 players who had the longest winning streaks between 2013 – 2022. List their names, the lengths of their winning streaks and the year(s) in which they occurred."
   ]
  },
  {
   "cell_type": "markdown",
   "id": "1ba46364",
   "metadata": {},
   "source": [
    "Firstly, streak of each player in a particular is calculated, the number of times they won in each year. Then we sort the players according to their streak in descending order to get the highest on top and store the top 5 highest player's streak. The data is then presented."
   ]
  },
  {
   "cell_type": "code",
   "execution_count": null,
   "id": "845d3084",
   "metadata": {},
   "outputs": [],
   "source": [
    "temp_df = dfc\n",
    "temp_df['Year'] = temp_df['Date'].dt.year\n",
    "win_strk = temp_df.groupby(['Winner', 'Year']).size().reset_index(name='Streak')\n",
    "top_5_streaks = win_strk.sort_values('Streak', ascending=False).head(5).reset_index()\n",
    "print(top_5_streaks[['Winner', 'Streak', 'Year']])"
   ]
  },
  {
   "cell_type": "markdown",
   "id": "2e8e5d39",
   "metadata": {},
   "source": [
    "#### In tennis, each set is played first to 6, but sometimes it is played to 7. A tiebreak is a set that someone wins 7-6 and is different to someone winning a set 7-5. Tiebreaks are stressful and some players perform better than others in tiebreaks. Count how many tiebreaks each player in the entire dataset has played. Then, calculate the percentage of tiebreaks that each player has won. List the top 10 players according to the percentage of tiebreaks won."
   ]
  },
  {
   "cell_type": "markdown",
   "id": "6475e001",
   "metadata": {},
   "source": [
    "Firstly, we calculate the number of tiebreaker each player has played. A player has played tiebreaker if his/her point in a set reaches 7. So we check all the winner's all the set they played and store it. Same for the loser. Then we concate the data, group it according to unique players and add the number of tiebreaker they played. To calculate the number of tie breaker won by a player, we need to check their loser's point. Because a tiebreaker is won at a point(7-6). There we get the player the won a tiebreaker. To calculate the winning percentage, we take the number of tiebreaker played by a player and the number of win and evaluate. We then sor the data in descending order and extract the top 10 players record."
   ]
  },
  {
   "cell_type": "code",
   "execution_count": null,
   "id": "089feba0",
   "metadata": {},
   "outputs": [],
   "source": [
    "df = dfc[['Year','Winner','Loser','W1','L1','W2','L2','W3','L3','W4','L4','W5','L5']]\n",
    "\n",
    "win_pld = df.groupby('Winner')[['W1','W2','W3','W4','W5']].apply(lambda x: (x == 7).sum()).reset_index()\n",
    "win_pld['Tiebreaks Played'] = win_pld['W1']+win_pld['W2']+win_pld['W3']+win_pld['W4']+win_pld['W5']\n",
    "win_pld = win_pld.drop(columns=['W1','W2','W3','W4','W5'])\n",
    "win_pld.rename(columns = {'Winner':'Player'}, inplace = True)\n",
    "\n",
    "los_pld = dfc.groupby('Loser')[['L1','L2','L3','L4','L5']].apply(lambda x: (x == 7).sum()).reset_index()\n",
    "los_pld['Tiebreaks Played'] = los_pld['L1']+los_pld['L2']+los_pld['L3']+los_pld['L4']+los_pld['L5']\n",
    "los_pld = los_pld.drop(columns=['L1','L2','L3','L4','L5'])\n",
    "los_pld.rename(columns = {'Loser':'Player'}, inplace = True)\n",
    "\n",
    "tb_pld = pd.concat([win_pld, los_pld])\n",
    "tb_pld = tb_pld.groupby('Player')['Tiebreaks Played'].sum().reset_index()\n",
    "\n",
    "\n",
    "m1 = df[(df['W1'] == 7) & (df['L1'] == 6)].groupby('Winner').size().reset_index(name='m1')\n",
    "m2 = df[(df['W2'] == 7) & (df['L2'] == 6)].groupby('Winner').size().reset_index(name='m2')\n",
    "m3 = df[(df['W3'] == 7) & (df['L3'] == 6)].groupby('Winner').size().reset_index(name='m3')\n",
    "m4 = df[(df['W4'] == 7) & (df['L4'] == 6)].groupby('Winner').size().reset_index(name='m4')\n",
    "m5 = df[(df['W5'] == 7) & (df['L5'] == 6)].groupby('Winner').size().reset_index(name='m5')\n",
    "tb_won = pd.concat([m1, m2, m3, m4, m5])\n",
    "tb_won['Tiebreaks Won'] = tb_won['m1']+tb_won['m2']+tb_won['m3']+tb_won['m4']+tb_won['m5']\n",
    "tb_won = tb_won.drop(columns=['m1','m2','m3','m4','m5'])\n",
    "tb_won = tb_won.groupby('Winner')['Tiebreaks Won'].size().reset_index()\n",
    "tb_won.rename(columns = {'Winner':'Player'}, inplace = True)\n",
    "\n",
    "tb_data = pd.merge(tb_pld, tb_won, on='Player', how='left')\n",
    "tb_data.fillna(0, inplace=True)\n",
    "tb_data['Tiebreaks Won'] = tb_data['Tiebreaks Won'].astype('int64')\n",
    "tb_data['Percentage Won'] = round(((tb_data['Tiebreaks Won'] / tb_data['Tiebreaks Played']) * 100),2)\n",
    "tb_data.fillna(0, inplace=True)\n",
    "\n",
    "top10_plrs = tb_data.sort_values('Percentage Won', ascending=False).head(10)\n",
    "print(top10_plrs)"
   ]
  },
  {
   "cell_type": "markdown",
   "id": "e901ede3",
   "metadata": {},
   "source": [
    "## Task 4: Open questions and analyses"
   ]
  },
  {
   "cell_type": "markdown",
   "id": "fbb484fb",
   "metadata": {},
   "source": [
    "#### Come up with 3 more questions of your own. Try to demonstrate the usage of more advanced data wrangling functionalities as you answer the questions like group by, pivots etc… Create several plots.\n"
   ]
  },
  {
   "cell_type": "markdown",
   "id": "a666c128",
   "metadata": {},
   "source": [
    "##### Display the top player in each year who won the most number of matches."
   ]
  },
  {
   "cell_type": "markdown",
   "id": "acf4bda5",
   "metadata": {},
   "source": [
    "Firstly, calculate the number of matches a winner won in each year and store in a dataframe with a new column 'Match Won'. Then we group the data with respect to year and select the players data with highest 'Match Won'. Then we create a dataframe that stores only data of player with maximum Match Won each year, which is extracted by comparing data containing max Match Winner players and the data with winners total win. The dataframe with resultant data is than visualized using bar graph."
   ]
  },
  {
   "cell_type": "code",
   "execution_count": null,
   "id": "2741522e",
   "metadata": {},
   "outputs": [],
   "source": [
    "ttl = dfc.groupby(['Year', 'Winner']).size().reset_index(name='Match Won')\n",
    "\n",
    "max_ttl = ttl.groupby('Year')['Match Won'].idxmax()\n",
    "top_plrs = ttl.loc[max_ttl]\n",
    "\n",
    "plt.figure(figsize=(7, 5))\n",
    "plt.bar(top_plrs['Winner'], top_plrs['Match Won'], width=.5)\n",
    "plt.xlabel('Player')\n",
    "plt.ylabel('Number of Match')\n",
    "plt.title('Top Player by Match Won per Year')\n",
    "plt.xticks(rotation=90)\n",
    "plt.show()"
   ]
  },
  {
   "cell_type": "markdown",
   "id": "b10be963",
   "metadata": {},
   "source": [
    "##### Player that has the highest winning percentage in matches played on grass?"
   ]
  },
  {
   "cell_type": "markdown",
   "id": "f0be6125",
   "metadata": {},
   "source": [
    "Here, we extract all the data of matches played where surface was grass. then we count the number of times a player won with value_counts(normalize=True)x100 which returns frequency of win, corresponding to win percentage. Then we sort the data in descending order to get the highest on top. Then we extract the top 10 and visualize their performance using horizontal bar graph."
   ]
  },
  {
   "cell_type": "code",
   "execution_count": null,
   "id": "6a886482",
   "metadata": {},
   "outputs": [],
   "source": [
    "grass_matches = dfc[dfc['Surface'] == 'Grass']\n",
    "win_per = (grass_matches['Winner'].value_counts(normalize=True)*100).round(2).reset_index()\n",
    "win_per.columns = ['Player', 'Winning Percentage']\n",
    "win_per = win_per.sort_values('Winning Percentage', ascending=False)\n",
    "plt.figure(figsize=(10, 6))\n",
    "plt.barh(win_per['Player'][:10], win_per['Winning Percentage'][:10])\n",
    "plt.xlabel('Winning Percentage')\n",
    "plt.ylabel('Player')\n",
    "plt.title('Top 10 Players with the Highest Winning Percentages on Grass')\n",
    "plt.show()"
   ]
  },
  {
   "cell_type": "markdown",
   "id": "9ea4d444",
   "metadata": {},
   "source": [
    "##### How many matches that has been played each year"
   ]
  },
  {
   "cell_type": "markdown",
   "id": "248d6a28",
   "metadata": {},
   "source": [
    "Since our data contains detail of matches with date month year, it means per data represents matches played over the period 2013-2022. So we group all the data according to year and calculate size to get the number of matches played each year and stored with new column 'Matches'. Then tha data is visualized using plot chart."
   ]
  },
  {
   "cell_type": "code",
   "execution_count": null,
   "id": "abaf438a",
   "metadata": {},
   "outputs": [],
   "source": [
    "matches_by_year = dfc.groupby('Year').size().reset_index(name='Matches')\n",
    "plt.figure(figsize=(7, 5))\n",
    "plt.plot(matches_by_year['Year'], matches_by_year['Matches'], marker='o')\n",
    "plt.xlabel('Year')\n",
    "plt.ylabel('Number of Matches')\n",
    "plt.title('Number of Matches Played Each Year')\n",
    "plt.show()"
   ]
  }
 ],
 "metadata": {
  "kernelspec": {
   "display_name": "Python 3 (ipykernel)",
   "language": "python",
   "name": "python3"
  },
  "language_info": {
   "codemirror_mode": {
    "name": "ipython",
    "version": 3
   },
   "file_extension": ".py",
   "mimetype": "text/x-python",
   "name": "python",
   "nbconvert_exporter": "python",
   "pygments_lexer": "ipython3",
   "version": "3.11.4"
  }
 },
 "nbformat": 4,
 "nbformat_minor": 5
}
